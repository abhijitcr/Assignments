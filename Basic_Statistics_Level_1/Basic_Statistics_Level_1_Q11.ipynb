{
 "cells": [
  {
   "cell_type": "markdown",
   "id": "c2837be8",
   "metadata": {},
   "source": [
    "Q11)  Suppose we want to estimate the average weight of an adult male in    Mexico. We draw a random sample of 2,000 men from a population of 3,000,000 men and weigh them. We find that the average person in our sample weighs 200 pounds, and the standard deviation of the sample is 30 pounds. Calculate 94%,98%,96% confidence interval?"
   ]
  },
  {
   "cell_type": "code",
   "execution_count": 1,
   "id": "e77fb006",
   "metadata": {},
   "outputs": [],
   "source": [
    "import scipy.stats as stats"
   ]
  },
  {
   "cell_type": "code",
   "execution_count": 2,
   "id": "492bb627",
   "metadata": {},
   "outputs": [
    {
     "name": "stdout",
     "output_type": "stream",
     "text": [
      "94% Confidence Interval Confidence Interval: 198.74 to 201.26 pounds\n",
      "98% Confidence Interval Confidence Interval: 198.44 to 201.56 pounds\n",
      "96% Confidence Interval Confidence Interval: 198.62 to 201.38 pounds\n"
     ]
    }
   ],
   "source": [
    "# Given data\n",
    "sample_mean = 200  # Sample mean weight (in pounds)\n",
    "sample_stddev = 30  # Sample standard deviation (in pounds)\n",
    "sample_size = 2000  # Sample size\n",
    "population_size = 3000000  # Total population size\n",
    "\n",
    "# Calculate Z-scores for different confidence levels\n",
    "confidence_levels = [0.94, 0.98, 0.96]\n",
    "z_scores = {}\n",
    "\n",
    "for confidence_level in confidence_levels:\n",
    "    alpha = 1 - confidence_level\n",
    "    z_score = stats.norm.ppf(1 - alpha / 2)\n",
    "    z_scores[f'{int(confidence_level * 100)}% Confidence Interval'] = z_score\n",
    "\n",
    "# Calculate margin of error (MOE) for each confidence level\n",
    "MOEs = {}\n",
    "\n",
    "for confidence_level, z_score in z_scores.items():\n",
    "    MOE = z_score * (sample_stddev / (sample_size ** 0.5))\n",
    "    MOEs[confidence_level] = MOE\n",
    "\n",
    "# Calculate confidence intervals\n",
    "confidence_intervals = {}\n",
    "\n",
    "for confidence_level, MOE in MOEs.items():\n",
    "    lower_limit = sample_mean - MOE\n",
    "    upper_limit = sample_mean + MOE\n",
    "    confidence_intervals[confidence_level] = (lower_limit, upper_limit)\n",
    "\n",
    "# Display the confidence intervals\n",
    "for confidence_level, interval in confidence_intervals.items():\n",
    "    print(f\"{confidence_level} Confidence Interval: {interval[0]:.2f} to {interval[1]:.2f} pounds\")\n"
   ]
  }
 ],
 "metadata": {
  "kernelspec": {
   "display_name": "Python 3 (ipykernel)",
   "language": "python",
   "name": "python3"
  },
  "language_info": {
   "codemirror_mode": {
    "name": "ipython",
    "version": 3
   },
   "file_extension": ".py",
   "mimetype": "text/x-python",
   "name": "python",
   "nbconvert_exporter": "python",
   "pygments_lexer": "ipython3",
   "version": "3.11.4"
  }
 },
 "nbformat": 4,
 "nbformat_minor": 5
}
