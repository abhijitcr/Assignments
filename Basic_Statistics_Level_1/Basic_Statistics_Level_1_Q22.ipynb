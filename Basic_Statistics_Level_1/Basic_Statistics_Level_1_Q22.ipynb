{
 "cells": [
  {
   "cell_type": "markdown",
   "id": "45ab0295",
   "metadata": {},
   "source": [
    "Q 22) Calculate the Z scores of  90% confidence interval,94% confidence interval, 60% confidence interval"
   ]
  },
  {
   "cell_type": "code",
   "execution_count": 1,
   "id": "05d7b443",
   "metadata": {},
   "outputs": [],
   "source": [
    "import scipy.stats as stats"
   ]
  },
  {
   "cell_type": "code",
   "execution_count": 2,
   "id": "35b9c526",
   "metadata": {},
   "outputs": [
    {
     "name": "stdout",
     "output_type": "stream",
     "text": [
      "90% Confidence Interval: Z-Score = 1.64\n",
      "94% Confidence Interval: Z-Score = 1.88\n",
      "60% Confidence Interval: Z-Score = 0.84\n"
     ]
    }
   ],
   "source": [
    "# Confidence Levels\n",
    "confidence_levels = [0.90, 0.94, 0.60]\n",
    "\n",
    "# Calculate Z-scores for each confidence level\n",
    "z_scores = {}\n",
    "\n",
    "for confidence_level in confidence_levels:\n",
    "    alpha = (1 - confidence_level) / 2  # Two-tailed test\n",
    "    z_score = stats.norm.ppf(1 - alpha)\n",
    "    z_scores[f'{int(confidence_level * 100)}% Confidence Interval'] = z_score\n",
    "\n",
    "# Display the Z-scores\n",
    "for confidence_interval, z_score in z_scores.items():\n",
    "    print(f\"{confidence_interval}: Z-Score = {z_score:.2f}\")\n"
   ]
  }
 ],
 "metadata": {
  "kernelspec": {
   "display_name": "Python 3 (ipykernel)",
   "language": "python",
   "name": "python3"
  },
  "language_info": {
   "codemirror_mode": {
    "name": "ipython",
    "version": 3
   },
   "file_extension": ".py",
   "mimetype": "text/x-python",
   "name": "python",
   "nbconvert_exporter": "python",
   "pygments_lexer": "ipython3",
   "version": "3.11.4"
  }
 },
 "nbformat": 4,
 "nbformat_minor": 5
}
