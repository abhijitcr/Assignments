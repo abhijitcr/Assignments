{
 "cells": [
  {
   "cell_type": "markdown",
   "id": "680de815",
   "metadata": {},
   "source": [
    " Q 23) Calculate the t scores of 95% confidence interval, 96% confidence interval, 99% confidence interval for sample size of 25"
   ]
  },
  {
   "cell_type": "code",
   "execution_count": 1,
   "id": "faa185d9",
   "metadata": {},
   "outputs": [],
   "source": [
    "import scipy.stats as stats"
   ]
  },
  {
   "cell_type": "code",
   "execution_count": 2,
   "id": "3a50e74c",
   "metadata": {},
   "outputs": [
    {
     "name": "stdout",
     "output_type": "stream",
     "text": [
      "95% Confidence Interval: t-Score = 2.06\n",
      "96% Confidence Interval: t-Score = 2.17\n",
      "99% Confidence Interval: t-Score = 2.80\n"
     ]
    }
   ],
   "source": [
    "# Sample size\n",
    "sample_size = 25\n",
    "\n",
    "# Confidence Levels\n",
    "confidence_levels = [0.95, 0.96, 0.99]\n",
    "\n",
    "# Calculate t-scores for each confidence level\n",
    "t_scores = {}\n",
    "\n",
    "for confidence_level in confidence_levels:\n",
    "    alpha = (1 - confidence_level) / 2  # Two-tailed test\n",
    "    t_score = stats.t.ppf(1 - alpha, df=sample_size - 1)\n",
    "    t_scores[f'{int(confidence_level * 100)}% Confidence Interval'] = t_score\n",
    "\n",
    "# Display the t-scores\n",
    "for confidence_interval, t_score in t_scores.items():\n",
    "    print(f\"{confidence_interval}: t-Score = {t_score:.2f}\")"
   ]
  }
 ],
 "metadata": {
  "kernelspec": {
   "display_name": "Python 3 (ipykernel)",
   "language": "python",
   "name": "python3"
  },
  "language_info": {
   "codemirror_mode": {
    "name": "ipython",
    "version": 3
   },
   "file_extension": ".py",
   "mimetype": "text/x-python",
   "name": "python",
   "nbconvert_exporter": "python",
   "pygments_lexer": "ipython3",
   "version": "3.11.4"
  }
 },
 "nbformat": 4,
 "nbformat_minor": 5
}
