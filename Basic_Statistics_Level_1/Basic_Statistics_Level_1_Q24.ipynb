{
 "cells": [
  {
   "cell_type": "markdown",
   "id": "13017c75",
   "metadata": {},
   "source": [
    "Q 24) A Government  company claims that an average light bulb lasts 270 days. A researcher randomly selects 18 bulbs for testing. The sampled bulbs last an average of 260 days, with a standard deviation of 90 days. If the CEO's claim were true, what is the probability that 18 randomly selected bulbs would have an average life of no more than 260 days\n",
    "\n",
    "Hint:  \n",
    "rcode -> pt(tscore,df)  \n",
    "df -> degrees of freedom\n"
   ]
  },
  {
   "cell_type": "code",
   "execution_count": 1,
   "id": "2ae3a344",
   "metadata": {},
   "outputs": [],
   "source": [
    "import scipy.stats as stats\n",
    "from math import sqrt"
   ]
  },
  {
   "cell_type": "code",
   "execution_count": 2,
   "id": "606a8aaa",
   "metadata": {},
   "outputs": [
    {
     "data": {
      "text/plain": [
       "0.32"
      ]
     },
     "execution_count": 2,
     "metadata": {},
     "output_type": "execute_result"
    }
   ],
   "source": [
    "# Given data\n",
    "claim_mean = 270  # Claimed average lifespan\n",
    "sample_mean = 260  # Sampled average lifespan\n",
    "sample_stddev = 90  # Standard deviation of the sample\n",
    "sample_size = 18  # Sample size\n",
    "\n",
    "# Calculate the standard error of the mean (SEM)\n",
    "sem = sample_stddev / sqrt(sample_size)\n",
    "\n",
    "# Calculate the t-score\n",
    "t_score = (sample_mean - claim_mean) / sem\n",
    "\n",
    "# Degrees of freedom\n",
    "df = sample_size - 1\n",
    "\n",
    "# Calculate the probability using the cumulative distribution function (CDF)\n",
    "probability = stats.t.cdf(t_score, df)\n",
    "\n",
    "# Round the probability to two decimal places\n",
    "rounded_probability = round(probability, 2)\n",
    "\n",
    "# Display the rounded probability\n",
    "rounded_probability"
   ]
  },
  {
   "cell_type": "markdown",
   "id": "22e3ba07",
   "metadata": {},
   "source": [
    "Answer (Q24): There is a 32% probability that 18 randomly selected bulbs would have an average life of no more than 260 days"
   ]
  },
  {
   "cell_type": "code",
   "execution_count": null,
   "id": "1f5bdba8",
   "metadata": {},
   "outputs": [],
   "source": []
  }
 ],
 "metadata": {
  "kernelspec": {
   "display_name": "Python 3 (ipykernel)",
   "language": "python",
   "name": "python3"
  },
  "language_info": {
   "codemirror_mode": {
    "name": "ipython",
    "version": 3
   },
   "file_extension": ".py",
   "mimetype": "text/x-python",
   "name": "python",
   "nbconvert_exporter": "python",
   "pygments_lexer": "ipython3",
   "version": "3.11.4"
  }
 },
 "nbformat": 4,
 "nbformat_minor": 5
}
