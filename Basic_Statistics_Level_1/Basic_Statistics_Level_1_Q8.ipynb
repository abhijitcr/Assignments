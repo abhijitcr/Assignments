{
 "cells": [
  {
   "cell_type": "markdown",
   "id": "68bb61d1",
   "metadata": {},
   "source": [
    "Q8) Calculate Expected Value for the problem below\n",
    "a)\tThe weights (X) of patients at a clinic (in pounds), are\n",
    "108, 110, 123, 134, 135, 145, 167, 187, 199\n",
    "Assume one of the patients is chosen at random. What is the Expected Value of the Weight of that patient?"
   ]
  },
  {
   "cell_type": "code",
   "execution_count": 1,
   "id": "406fdb0d",
   "metadata": {},
   "outputs": [
    {
     "name": "stdout",
     "output_type": "stream",
     "text": [
      "Expected Value of Patient Weight: 145.33\n"
     ]
    }
   ],
   "source": [
    "# List of patient weights (in pounds)\n",
    "weights = [108, 110, 123, 134, 135, 145, 167, 187, 199]\n",
    "\n",
    "# Calculate the expected value (mean)\n",
    "expected_value = sum(weights) / len(weights)\n",
    "\n",
    "# Print the result\n",
    "print(\"Expected Value of Patient Weight:\", round(expected_value, 2))\n"
   ]
  },
  {
   "cell_type": "code",
   "execution_count": 2,
   "id": "97a94230",
   "metadata": {},
   "outputs": [
    {
     "data": {
      "text/plain": [
       "12.0"
      ]
     },
     "execution_count": 2,
     "metadata": {},
     "output_type": "execute_result"
    }
   ],
   "source": [
    "108 * 1/9"
   ]
  },
  {
   "cell_type": "code",
   "execution_count": 3,
   "id": "464353f2",
   "metadata": {},
   "outputs": [
    {
     "data": {
      "text/plain": [
       "145.33333333333334"
      ]
     },
     "execution_count": 3,
     "metadata": {},
     "output_type": "execute_result"
    }
   ],
   "source": [
    "(108 * 1/9) + (110 * 1/9) + (123 * 1/9) + (134 * 1/9) + (135 * 1/9) + (145 * 1/9) + (167 * 1/9) + (187 * 1/9) + (199 * 1/9)"
   ]
  },
  {
   "cell_type": "markdown",
   "id": "8f3b3220",
   "metadata": {},
   "source": [
    "The Expected Value of the Weight of that random patient is 145 pounds."
   ]
  }
 ],
 "metadata": {
  "kernelspec": {
   "display_name": "Python 3 (ipykernel)",
   "language": "python",
   "name": "python3"
  },
  "language_info": {
   "codemirror_mode": {
    "name": "ipython",
    "version": 3
   },
   "file_extension": ".py",
   "mimetype": "text/x-python",
   "name": "python",
   "nbconvert_exporter": "python",
   "pygments_lexer": "ipython3",
   "version": "3.11.4"
  }
 },
 "nbformat": 4,
 "nbformat_minor": 5
}
