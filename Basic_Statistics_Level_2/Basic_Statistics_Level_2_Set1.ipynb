{
 "cells": [
  {
   "cell_type": "markdown",
   "id": "73501eb3",
   "metadata": {},
   "source": [
    "Q1. Look at the data given below. Plot the data, find the outliers and find out  μ,σ,σ^2\n",
    "\n",
    "Name of company\tMeasure X\n",
    "Allied Signal\t24.23%\n",
    "Bankers Trust\t25.53%\n",
    "General Mills\t25.41%\n",
    "ITT Industries\t24.14%\n",
    "J.P.Morgan & Co.\t29.62%\n",
    "Lehman Brothers\t28.25%\n",
    "Marriott\t25.81%\n",
    "MCI\t24.39%\n",
    "Merrill Lynch\t40.26%\n",
    "Microsoft\t32.95%\n",
    "Morgan Stanley\t91.36%\n",
    "Sun Microsystems\t25.99%\n",
    "Travelers\t39.42%\n",
    "US Airways\t26.71%\n",
    "Warner-Lambert\t35.00%"
   ]
  },
  {
   "cell_type": "code",
   "execution_count": 1,
   "id": "e99813c1",
   "metadata": {},
   "outputs": [],
   "source": [
    "import math\n",
    "import seaborn as sns \n",
    "import matplotlib.pyplot as plt"
   ]
  },
  {
   "cell_type": "code",
   "execution_count": 2,
   "id": "ff78e692",
   "metadata": {},
   "outputs": [],
   "source": [
    "# Percentage values converted to decimal\n",
    "data = [24.23, 25.53, 25.41, 24.14, 29.62, 28.25, 25.81, 24.39, 40.26, 32.95, 91.36, 25.99, 39.42, 26.71, 35.00]"
   ]
  },
  {
   "cell_type": "code",
   "execution_count": 3,
   "id": "77e19660",
   "metadata": {},
   "outputs": [
    {
     "data": {
      "image/png": "[encoded data removed]",
      "text/plain": [
       "<Figure size 800x600 with 1 Axes>"
      ]
     },
     "metadata": {},
     "output_type": "display_data"
    }
   ],
   "source": [
    "# Plot the data as a histogram\n",
    "plt.figure(figsize=(8, 6))\n",
    "sns.histplot(data, bins=10, kde=True)  # Use sns.histplot to create a histogram with KDE (Kernel Density Estimate)\n",
    "plt.xlabel('Measure X')\n",
    "plt.ylabel('Frequency')\n",
    "plt.title('Histogram of Measure X')\n",
    "plt.show()"
   ]
  },
  {
   "cell_type": "code",
   "execution_count": 4,
   "id": "1fe16af4",
   "metadata": {},
   "outputs": [
    {
     "name": "stdout",
     "output_type": "stream",
     "text": [
      "Outliers: ['Morgan Stanley']\n",
      "Mean (μ): 33.27\n",
      "Standard Deviation (σ): 16.37\n",
      "Variance (σ^2): 268.0\n"
     ]
    }
   ],
   "source": [
    "# Descriptive statistics\n",
    "\n",
    "# Mean (μ) rounded to 2 decimal places\n",
    "mean = round(sum(data) / len(data), 2)\n",
    "\n",
    "# Standard Deviation (σ) rounded to 2 decimal places\n",
    "squared_diff = sum([(x - mean) ** 2 for x in data])\n",
    "variance = squared_diff / len(data)\n",
    "std_dev = round(math.sqrt(variance), 2)\n",
    "\n",
    "# Identify outlier\n",
    "outliers = [company for company, value in zip(['Allied Signal', 'Bankers Trust', 'General Mills', 'ITT Industries', 'J.P.Morgan & Co.', 'Lehman Brothers', 'Marriott', 'MCI', 'Merrill Lynch', 'Microsoft', 'Morgan Stanley', 'Sun Microsystems', 'Travelers', 'US Airways', 'Warner-Lambert'], data) if value > (mean + 2 * std_dev)]\n",
    "print(\"Outliers:\", outliers)\n",
    "\n",
    "# Print calculated statistics\n",
    "print(\"Mean (μ):\", mean)\n",
    "print(\"Standard Deviation (σ):\", std_dev)\n",
    "print(\"Variance (σ^2):\", round(variance, 2))"
   ]
  },
  {
   "cell_type": "markdown",
   "id": "3e20e40d",
   "metadata": {},
   "source": [
    "Q4. AT&T was running commercials in 1990 aimed at luring back customers who had switched to one of the other long-distance phone service providers. One such commercial shows a businessman trying to reach Phoenix and mistakenly getting Fiji, where a half-naked native on a beach responds incomprehensibly in Polynesian. When asked about this advertisement, AT&T admitted that the portrayed incident did not actually take place but added that this was an enactment of something that “could happen.” Suppose that one in 200 long-distance telephone calls is misdirected. What is the probability that at least one in five attempted telephone calls reaches the wrong number? (Assume independence of attempts.)"
   ]
  },
  {
   "cell_type": "code",
   "execution_count": 5,
   "id": "0fe3185a",
   "metadata": {},
   "outputs": [
    {
     "name": "stdout",
     "output_type": "stream",
     "text": [
      "Answer(Q4):The probability of at least one misdirected call is approximately 2.48%.\n"
     ]
    }
   ],
   "source": [
    "# Define the probability of a single call being misdirected\n",
    "p_misdirected = 1 / 200\n",
    "\n",
    "# Calculate the probability that all 5 calls are correctly directed\n",
    "probability_all_correct = (199 / 200) ** 5\n",
    "\n",
    "# Calculate the probability of at least one misdirected call\n",
    "probability_at_least_one_misdirected = 1 - probability_all_correct\n",
    "\n",
    "# Convert the probability to a percentage\n",
    "percentage_probability = probability_at_least_one_misdirected * 100\n",
    "\n",
    "# Print the result with two decimal places and a percentage sign\n",
    "rounded_percentage = round(percentage_probability, 2)\n",
    "print(f\"Answer(Q4):The probability of at least one misdirected call is approximately {rounded_percentage}%.\")\n"
   ]
  },
  {
   "cell_type": "markdown",
   "id": "39476bc5",
   "metadata": {},
   "source": [
    "Q5(iv)\tWhat is the good measure of the risk involved in a venture of this kind? Compute this measure"
   ]
  },
  {
   "cell_type": "code",
   "execution_count": 7,
   "id": "4ddd6224",
   "metadata": {},
   "outputs": [
    {
     "name": "stdout",
     "output_type": "stream",
     "text": [
      "The standard deviation, a measure of risk, is approximately $1469.69\n"
     ]
    }
   ],
   "source": [
    "# Define the probability distribution\n",
    "outcomes = [-2000, -1000, 0, 1000, 2000, 3000]\n",
    "probabilities = [0.1, 0.1, 0.2, 0.2, 0.3, 0.1]\n",
    "\n",
    "# Calculate the expected value (average earnings)\n",
    "expected_value = sum(x * p for x, p in zip(outcomes, probabilities))\n",
    "\n",
    "# Calculate the standard deviation\n",
    "variance = sum((x - expected_value) ** 2 * p for x, p in zip(outcomes, probabilities))\n",
    "std_deviation = math.sqrt(variance)\n",
    "\n",
    "# Print the standard deviation\n",
    "print(f\"The standard deviation, a measure of risk, is approximately ${std_deviation:.2f}\")\n"
   ]
  }
 ],
 "metadata": {
  "kernelspec": {
   "display_name": "Python 3 (ipykernel)",
   "language": "python",
   "name": "python3"
  },
  "language_info": {
   "codemirror_mode": {
    "name": "ipython",
    "version": 3
   },
   "file_extension": ".py",
   "mimetype": "text/x-python",
   "name": "python",
   "nbconvert_exporter": "python",
   "pygments_lexer": "ipython3",
   "version": "3.11.4"
  }
 },
 "nbformat": 4,
 "nbformat_minor": 5
}
