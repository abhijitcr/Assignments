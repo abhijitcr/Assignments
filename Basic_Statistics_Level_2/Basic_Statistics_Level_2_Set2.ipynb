{
 "cells": [
  {
   "cell_type": "code",
   "execution_count": 1,
   "id": "e99813c1",
   "metadata": {},
   "outputs": [],
   "source": [
    "import numpy as np\n",
    "from scipy.stats import norm"
   ]
  },
  {
   "cell_type": "markdown",
   "id": "4cb22329",
   "metadata": {},
   "source": [
    "1.The time required for servicing transmissions is normally distributed with μ = 45 minutes and σ = 8 minutes. The service manager plans to have work begin on the transmission of a customer’s car 10 minutes after the car is dropped off and the customer is told that the car will be ready within 1 hour from drop-off. What is the probability that the service manager cannot meet his commitment? \n",
    "\n",
    "A.\t0.3875   \n",
    "B.\t0.2676   \n",
    "C.\t0.5   \n",
    "D.\t0.6987"
   ]
  },
  {
   "cell_type": "code",
   "execution_count": 2,
   "id": "e42b77df",
   "metadata": {},
   "outputs": [
    {
     "name": "stdout",
     "output_type": "stream",
     "text": [
      "The probability that the service manager cannot meet his commitment is: 0.26599\n",
      "Answer(Q1):Correct Option is B. 0.2676\n"
     ]
    }
   ],
   "source": [
    "# Define the parameters of the normal distribution\n",
    "mean = 45  # Mean\n",
    "std_dev = 8  # Standard Deviation\n",
    "\n",
    "# Calculate the available time\n",
    "available_time = 60 - 10  # 50 minutes\n",
    "\n",
    "# Calculate the z-score for the available time\n",
    "z = (available_time - mean) / std_dev\n",
    "\n",
    "# Use the cumulative distribution function (CDF) of the standard normal distribution to find the probability\n",
    "probability = 1 - norm.cdf(z)\n",
    "\n",
    "# Round the probability to 5 decimal points\n",
    "rounded_probability = round(probability, 5)\n",
    "\n",
    "# Print the rounded probability\n",
    "print(\"The probability that the service manager cannot meet his commitment is:\", rounded_probability)\n",
    "print(\"Answer(Q1):Correct Option is B. 0.2676\")"
   ]
  },
  {
   "cell_type": "markdown",
   "id": "fd2e5481",
   "metadata": {},
   "source": [
    "2.The current age (in years) of 400 clerical employees at an insurance claims processing center is normally distributed with mean μ = 38 and Standard deviation σ =6. For each statement below, please specify True/False. If false, briefly explain why.\n",
    "\n",
    "        B.A training program for employees under the age of 30 at the center would be expected to attract about 36 employees."
   ]
  },
  {
   "cell_type": "code",
   "execution_count": 3,
   "id": "570dd40d",
   "metadata": {},
   "outputs": [
    {
     "name": "stdout",
     "output_type": "stream",
     "text": [
      "Expected number of employees under the age of 30: 36\n",
      "Answer(Q2_B): True\n"
     ]
    }
   ],
   "source": [
    "# Define the parameters of the normal distribution\n",
    "mean = 38  # Mean age\n",
    "std_dev = 6  # Standard Deviation\n",
    "\n",
    "# Calculate the z-score for age 30\n",
    "z_30 = (30 - mean) / std_dev\n",
    "\n",
    "# Calculate the probability of being under 30\n",
    "prob_under_30 = norm.cdf(z_30)\n",
    "\n",
    "# Calculate the expected number of employees under 30\n",
    "total_employees = 400\n",
    "expected_under_30 = prob_under_30 * total_employees\n",
    "\n",
    "# Print the expected number of employees under 30\n",
    "print(\"Expected number of employees under the age of 30:\", round(expected_under_30))\n",
    "print(\"Answer(Q2_B): True\")"
   ]
  },
  {
   "cell_type": "markdown",
   "id": "39d975f8",
   "metadata": {},
   "source": [
    "4.Let X ~ N(100, 202). Find two values, a and b, symmetric about the mean, such that the probability of the random variable taking a value between them is 0.99. \n",
    "\n",
    "A.\t90.5, 105.9 \n",
    "B.\t80.2, 119.8 \n",
    "C.\t22, 78 \n",
    "D.\t48.5, 151.5 \n",
    "E.\t90.1, 109.9\n"
   ]
  },
  {
   "cell_type": "code",
   "execution_count": 4,
   "id": "2edea0f2",
   "metadata": {},
   "outputs": [
    {
     "name": "stdout",
     "output_type": "stream",
     "text": [
      "48.5 151.5\n",
      "Answer (Q4): Option 'D'\n"
     ]
    }
   ],
   "source": [
    "#p(a<x<b) = 0.99 ,mean =100,standardDeviation = 20\n",
    "\n",
    "#probability of the random variable taking a value between them is 0.99 and \n",
    "#excluding area of .005 in each of the left and right tails. \n",
    "#thus, we want to find the 0.5th and the 99.5th percentiles Z score values\n",
    "\n",
    "\n",
    "# Define the parameters of the normal distribution\n",
    "mu = 100  # Mean\n",
    "sigma = 20  # Standard Deviation\n",
    "\n",
    "# Calculate the z-scores corresponding to the 0.005 and 0.995 percentiles\n",
    "lower_z = norm.ppf(0.005)\n",
    "upper_z = norm.ppf(0.995)\n",
    "\n",
    "# Calculate the values a and b\n",
    "a = round(mu + lower_z * sigma, 1)\n",
    "b = round(mu + upper_z * sigma, 1)\n",
    "\n",
    "# Print the values a and b\n",
    "print(a, b)\n",
    "print(\"Answer (Q4): Option 'D'\")"
   ]
  },
  {
   "cell_type": "markdown",
   "id": "440026ef",
   "metadata": {},
   "source": [
    "5.\tConsider a company that has two different divisions. The annual profits from the two divisions are independent and have distributions Profit1 ~ N(5, 32) and Profit2 ~ N(7, 42) respectively. Both the profits are in $ Million. Answer the following questions about the total profit of the company in Rupees. Assume that $1 = Rs. 45\n",
    "A.\tSpecify a Rupee range (centered on the mean) such that it contains 95% probability for the annual profit of the company."
   ]
  },
  {
   "cell_type": "code",
   "execution_count": 5,
   "id": "5787420b",
   "metadata": {},
   "outputs": [
    {
     "name": "stdout",
     "output_type": "stream",
     "text": [
      "Answer(Q5_A):There is 95% probability for the annual profit of the company will be in a rupee range of -218.73 to 1298.73\n"
     ]
    }
   ],
   "source": [
    "# Define the parameters for Profit1 and Profit2\n",
    "mean1 = 5  # Mean for Profit1 in $ million\n",
    "std_dev1 = (32)**0.5  # Standard Deviation for Profit1 in $ million\n",
    "mean2 = 7  # Mean for Profit2 in $ million\n",
    "std_dev2 = (42)**0.5  # Standard Deviation for Profit2 in $ million\n",
    "\n",
    "# Define the conversion rate from $ to Rs.\n",
    "conversion_rate = 45  # 1 $ = 45 Rs.\n",
    "\n",
    "# Calculate the total mean and standard deviation\n",
    "mean_total = mean1 + mean2\n",
    "std_dev_total = (std_dev1**2 + std_dev2**2)**0.5\n",
    "\n",
    "# Calculate the 95% confidence interval in $ Million\n",
    "z_value = 1.96  # for a 95% confidence interval\n",
    "lower_bound = mean_total - z_value * std_dev_total\n",
    "upper_bound = mean_total + z_value * std_dev_total\n",
    "\n",
    "# Convert the bounds to Rupees\n",
    "lower_bound_rupees = lower_bound * conversion_rate\n",
    "upper_bound_rupees = upper_bound * conversion_rate\n",
    "\n",
    "# Print the statement with the Rupee range\n",
    "print(f\"Answer(Q5_A):There is 95% probability for the annual profit of the company will be in a rupee range of {lower_bound_rupees:.2f} to {upper_bound_rupees:.2f}\")\n"
   ]
  },
  {
   "cell_type": "markdown",
   "id": "9940f812",
   "metadata": {},
   "source": [
    "5.\tConsider a company that has two different divisions. The annual profits from the two divisions are independent and have distributions Profit1 ~ N(5, 32) and Profit2 ~ N(7, 42) respectively. Both the profits are in $ Million. Answer the following questions about the total profit of the company in Rupees. Assume that $1 = Rs. 45\n",
    "B.\tSpecify the 5th percentile of profit (in Rupees) for the company"
   ]
  },
  {
   "cell_type": "code",
   "execution_count": 6,
   "id": "e4c174b6",
   "metadata": {},
   "outputs": [
    {
     "name": "stdout",
     "output_type": "stream",
     "text": [
      "Answer(Q5_B)The 5th percentile of profit for the company is approximately -96.73 Rupees\n"
     ]
    }
   ],
   "source": [
    "# Calculate the 5th percentile of profit in $ Million\n",
    "fifth_percentile = norm.ppf(0.05, loc=mean_total, scale=std_dev_total)\n",
    "\n",
    "# Convert the 5th percentile to Rupees\n",
    "fifth_percentile_rupees = fifth_percentile * conversion_rate\n",
    "\n",
    "# Print the 5th percentile in Rupees\n",
    "print(f\"Answer(Q5_B)The 5th percentile of profit for the company is approximately {fifth_percentile_rupees:.2f} Rupees\")\n"
   ]
  },
  {
   "cell_type": "markdown",
   "id": "4bbaa3b1",
   "metadata": {},
   "source": [
    "5.\tConsider a company that has two different divisions. The annual profits from the two divisions are independent and have distributions Profit1 ~ N(5, 32) and Profit2 ~ N(7, 42) respectively. Both the profits are in $ Million. Answer the following questions about the total profit of the company in Rupees. Assume that $1 = Rs. 45\n",
    "C.\tWhich of the two divisions has a larger probability of making a loss in a given year?"
   ]
  },
  {
   "cell_type": "code",
   "execution_count": 7,
   "id": "b9ca4bc7",
   "metadata": {},
   "outputs": [
    {
     "name": "stdout",
     "output_type": "stream",
     "text": [
      "Profit1 has a larger probability of making a loss in a given year.\n"
     ]
    }
   ],
   "source": [
    "# Calculate the probability of Profit1 making a loss\n",
    "prob_loss1 = norm.cdf(0, loc=mean1, scale=std_dev1)\n",
    "\n",
    "# Calculate the probability of Profit2 making a loss\n",
    "prob_loss2 = norm.cdf(0, loc=mean2, scale=std_dev2)\n",
    "\n",
    "# Determine which division has a larger probability of making a loss\n",
    "if prob_loss1 > prob_loss2:\n",
    "    division_with_larger_loss_probability = \"Profit1\"\n",
    "elif prob_loss2 > prob_loss1:\n",
    "    division_with_larger_loss_probability = \"Profit2\"\n",
    "else:\n",
    "    division_with_larger_loss_probability = \"Both divisions have the same probability of making a loss\"\n",
    "\n",
    "# Print the result\n",
    "print(f\"{division_with_larger_loss_probability} has a larger probability of making a loss in a given year.\")"
   ]
  },
  {
   "cell_type": "code",
   "execution_count": null,
   "id": "3b352e04",
   "metadata": {},
   "outputs": [],
   "source": []
  }
 ],
 "metadata": {
  "kernelspec": {
   "display_name": "Python 3 (ipykernel)",
   "language": "python",
   "name": "python3"
  },
  "language_info": {
   "codemirror_mode": {
    "name": "ipython",
    "version": 3
   },
   "file_extension": ".py",
   "mimetype": "text/x-python",
   "name": "python",
   "nbconvert_exporter": "python",
   "pygments_lexer": "ipython3",
   "version": "3.11.4"
  }
 },
 "nbformat": 4,
 "nbformat_minor": 5
}
