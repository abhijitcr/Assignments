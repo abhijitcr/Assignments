{
 "cells": [
  {
   "cell_type": "markdown",
   "id": "0650c7bd",
   "metadata": {},
   "source": [
    "5.In January 2005, a company that monitors Internet traffic (WebSideStory) reported that its sampling revealed that the Mozilla Firefox browser launched in 2004 had grabbed a 4.6% share of the market.\n",
    "\n",
    "I.\tIf the sample were based on 2,000 users, could Microsoft conclude that Mozilla has a less than 5% share of the market?\n"
   ]
  },
  {
   "cell_type": "code",
   "execution_count": 1,
   "id": "2d3c51e1",
   "metadata": {},
   "outputs": [],
   "source": [
    "import scipy.stats as stats\n",
    "import math"
   ]
  },
  {
   "cell_type": "code",
   "execution_count": 2,
   "id": "cb2dadc7",
   "metadata": {},
   "outputs": [
    {
     "name": "stdout",
     "output_type": "stream",
     "text": [
      "Answer(Q5_I):Microsoft could not conclude that Mozilla has a less than 5% share of the market.\n"
     ]
    }
   ],
   "source": [
    "# Population proportion under the null hypothesis (5%)\n",
    "p_null = 0.05\n",
    "\n",
    "# Sample size\n",
    "n = 2000\n",
    "\n",
    "# Sample proportion from the data (4.6%)\n",
    "p_sample = 0.046\n",
    "\n",
    "# Calculate the standard error\n",
    "standard_error = ((p_null * (1 - p_null)) / n) ** 0.5\n",
    "\n",
    "# Calculate the z-score\n",
    "z_score = (p_sample - p_null) / standard_error\n",
    "\n",
    "# Set the significance level (alpha)\n",
    "alpha = 0.05\n",
    "\n",
    "# Calculate the critical z-value for a one-tailed test (less than)\n",
    "critical_z = stats.norm.ppf(alpha)\n",
    "\n",
    "# Perform the hypothesis test\n",
    "if z_score < critical_z:\n",
    "    print(\"Microsoft could conclude that Mozilla has a less than 5% share of the market.\")\n",
    "else:\n",
    "    print(\"Answer(Q5_I):Microsoft could not conclude that Mozilla has a less than 5% share of the market.\")\n"
   ]
  },
  {
   "cell_type": "markdown",
   "id": "a1e76aee",
   "metadata": {},
   "source": [
    "5.In January 2005, a company that monitors Internet traffic (WebSideStory) reported that its sampling revealed that the Mozilla Firefox browser launched in 2004 had grabbed a 4.6% share of the market.\n",
    "\n",
    "II.\tWebSideStory claims that its sample includes all the daily Internet users. If that’s the case, then can Microsoft conclude that Mozilla has a less than 5% share of the market?"
   ]
  },
  {
   "cell_type": "code",
   "execution_count": 3,
   "id": "cce3faef",
   "metadata": {},
   "outputs": [
    {
     "name": "stdout",
     "output_type": "stream",
     "text": [
      "Answer(Q5_II):Microsoft can conclude that Mozilla has a less than 5% share of the market.\n"
     ]
    }
   ],
   "source": [
    "# Sample proportion from the data (4.6%)\n",
    "p_sample = 0.046\n",
    "\n",
    "# Compare the sample proportion to the 5% threshold\n",
    "if p_sample < 0.05:\n",
    "    print(\"Answer(Q5_II):Microsoft can conclude that Mozilla has a less than 5% share of the market.\")\n",
    "elif p_sample == 0.05:\n",
    "    print(\"Microsoft can conclude that Mozilla has a 5% share of the market.\")\n",
    "else:\n",
    "    print(\"Microsoft can conclude that Mozilla has a greater than 5% share of the market.\")\n"
   ]
  },
  {
   "cell_type": "markdown",
   "id": "068ff35a",
   "metadata": {},
   "source": [
    "Questions 8 and 9 are based on the following: To prepare a report on the economy, analysts need to estimate the percentage of businesses that plan to hire additional employees in the next 60 days.\n",
    "\n",
    "8.How many randomly selected employers (minimum number) must we contact in order to guarantee a margin of error of no more than 4% (at 95% confidence)?\n",
    "\n",
    "A.\t600\n",
    "B.\t400\n",
    "C.\t550\n",
    "D.\t1000"
   ]
  },
  {
   "cell_type": "code",
   "execution_count": 5,
   "id": "5168b3be",
   "metadata": {},
   "outputs": [
    {
     "name": "stdout",
     "output_type": "stream",
     "text": [
      "Answer(Q8):Minimum sample size for 95% confidence: 601\n"
     ]
    }
   ],
   "source": [
    "# Margin of error (as a decimal)\n",
    "margin_of_error = 0.04\n",
    "\n",
    "# Z-score for 95% confidence\n",
    "z_score_95 = 1.96\n",
    "\n",
    "# Estimated proportion (use 0.5 for maximum variability)\n",
    "p = 0.5\n",
    "\n",
    "# Calculate minimum sample size for 95% confidence\n",
    "sample_size_95 = math.ceil((z_score_95 ** 2 * p * (1 - p)) / (margin_of_error ** 2))\n",
    "\n",
    "print(\"Answer(Q8):Minimum sample size for 95% confidence:\", sample_size_95)\n"
   ]
  },
  {
   "cell_type": "markdown",
   "id": "891e43cb",
   "metadata": {},
   "source": [
    "Questions 8 and 9 are based on the following: To prepare a report on the economy, analysts need to estimate the percentage of businesses that plan to hire additional employees in the next 60 days.\n",
    "\n",
    "\n",
    "9.Suppose we want the above margin of error to be based on a 98% confidence level. What sample size (minimum) must we now use?\n",
    "\n",
    "A.\t1000\n",
    "B.\t757\n",
    "C.\t848\n",
    "D.\t543"
   ]
  },
  {
   "cell_type": "code",
   "execution_count": 7,
   "id": "f75521cf",
   "metadata": {},
   "outputs": [
    {
     "name": "stdout",
     "output_type": "stream",
     "text": [
      "Answer(Q9):Minimum sample size for 98% confidence: 849\n"
     ]
    }
   ],
   "source": [
    "# Margin of error (as a decimal)\n",
    "margin_of_error = 0.04\n",
    "\n",
    "# Z-score for 98% confidence\n",
    "z_score_98 = 2.33\n",
    "\n",
    "# Estimated proportion (use 0.5 for maximum variability)\n",
    "p = 0.5\n",
    "\n",
    "# Calculate minimum sample size for 98% confidence\n",
    "sample_size_98 = math.ceil((z_score_98 ** 2 * p * (1 - p)) / (margin_of_error ** 2))\n",
    "\n",
    "print(\"Answer(Q9):Minimum sample size for 98% confidence:\", sample_size_98)\n"
   ]
  },
  {
   "cell_type": "markdown",
   "id": "68eb5d08",
   "metadata": {},
   "source": [
    "\n"
   ]
  }
 ],
 "metadata": {
  "kernelspec": {
   "display_name": "Python 3 (ipykernel)",
   "language": "python",
   "name": "python3"
  },
  "language_info": {
   "codemirror_mode": {
    "name": "ipython",
    "version": 3
   },
   "file_extension": ".py",
   "mimetype": "text/x-python",
   "name": "python",
   "nbconvert_exporter": "python",
   "pygments_lexer": "ipython3",
   "version": "3.11.4"
  }
 },
 "nbformat": 4,
 "nbformat_minor": 5
}
