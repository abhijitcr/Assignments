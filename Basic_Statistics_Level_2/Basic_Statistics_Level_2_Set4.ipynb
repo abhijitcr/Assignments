{
 "cells": [
  {
   "cell_type": "code",
   "execution_count": 1,
   "id": "047b77c1",
   "metadata": {},
   "outputs": [],
   "source": [
    "import numpy as np\n",
    "import scipy.stats as stats\n",
    "from scipy.stats import norm\n",
    "import math\n",
    "import matplotlib.pyplot as plt"
   ]
  },
  {
   "cell_type": "markdown",
   "id": "7ef78ec4",
   "metadata": {},
   "source": [
    "3.\tAuditors at a small community bank randomly sample 100 withdrawal transactions made during the week at an ATM machine located near the bank’s main branch. Over the past 2 years, the average withdrawal amount has been $50 with a standard deviation of $40. Since audit investigations are typically expensive, the auditors decide to not initiate further investigations if the mean transaction amount of the sample is between $45 and $55. What is the probability that in any given week, there will be an investigation?\n",
    "\n",
    "A.\t1.25%\n",
    "B.\t2.5%\n",
    "C.\t10.55%\n",
    "D.\t21.1%\n",
    "E.\t50%"
   ]
  },
  {
   "cell_type": "code",
   "execution_count": 2,
   "id": "26c9ef6b",
   "metadata": {},
   "outputs": [
    {
     "name": "stdout",
     "output_type": "stream",
     "text": [
      "Answer(Q3):The probability of initiating an investigation is approximately 21.13% i.e. Option D\n"
     ]
    }
   ],
   "source": [
    "# Population parameters\n",
    "population_mean = 50  # Mean withdrawal amount\n",
    "population_stddev = 40  # Standard deviation\n",
    "\n",
    "# Sample size\n",
    "n = 100\n",
    "\n",
    "# Desired range for investigation\n",
    "lower_bound = 45\n",
    "upper_bound = 55\n",
    "\n",
    "# Calculate the standard error of the sample mean\n",
    "se = population_stddev / (n**0.5)\n",
    "\n",
    "# Calculate the z-scores for the lower and upper bounds\n",
    "z_lower = (lower_bound - population_mean) / se\n",
    "z_upper = (upper_bound - population_mean) / se\n",
    "\n",
    "# Use the cumulative distribution function (CDF) to find the probabilities\n",
    "# Probability of Z < z_lower\n",
    "prob_lower = stats.norm.cdf(z_lower)\n",
    "\n",
    "# Probability of Z > z_upper\n",
    "prob_upper = 1 - stats.norm.cdf(z_upper)\n",
    "\n",
    "# Probability of initiating an investigation (outside the desired range)\n",
    "probability_of_investigation = prob_lower + prob_upper\n",
    "\n",
    "# Convert to percentage\n",
    "probability_percentage = probability_of_investigation * 100\n",
    "\n",
    "print(f\"Answer(Q3):The probability of initiating an investigation is approximately {probability_percentage:.2f}% i.e. Option D\")\n"
   ]
  },
  {
   "cell_type": "markdown",
   "id": "cb510586",
   "metadata": {},
   "source": [
    "4.\tThe auditors from the above example would like to maintain the probability of investigation to 5%. Which of the following represents the minimum number transactions that they should sample if they do not want to change the thresholds of 45 and 55? Assume that the sample statistics remain unchanged.\n",
    "\n",
    "A.\t144\n",
    "B.\t150\n",
    "C.\t196\n",
    "D.\t250\n",
    "E.\tNot enough information"
   ]
  },
  {
   "cell_type": "code",
   "execution_count": 3,
   "id": "14e10cfb",
   "metadata": {},
   "outputs": [
    {
     "name": "stdout",
     "output_type": "stream",
     "text": [
      "Answer(Q4):The minimum sample size for a 5% probability of investigation is approximately 1 i.e. The Correct option is 'E' Not enough information\n"
     ]
    }
   ],
   "source": [
    "# Population parameters\n",
    "population_mean = 50\n",
    "population_stddev = 40\n",
    "\n",
    "# Thresholds\n",
    "upper_threshold = 55\n",
    "\n",
    "# Desired probability of investigation\n",
    "desired_probability = 0.05\n",
    "\n",
    "# Calculate the z-score for the desired probability\n",
    "z_desired = abs(stats.norm.ppf((1 - desired_probability) / 2))  # Two-tailed\n",
    "\n",
    "# Solve for the minimum sample size (n)\n",
    "min_sample_size = math.ceil((z_desired * population_stddev / (upper_threshold - population_mean))**2)\n",
    "\n",
    "print(f\"Answer(Q4):The minimum sample size for a 5% probability of investigation is approximately {min_sample_size} i.e. The Correct option is 'E' Not enough information\")\n"
   ]
  },
  {
   "cell_type": "markdown",
   "id": "a3a39f84",
   "metadata": {},
   "source": [
    "5.\tAn educational startup that helps MBA aspirants write their essays is targeting individuals who have taken GMAT in 2012 and have expressed interest in applying to FT top 20 b-schools. There are 40000 such individuals with an average GMAT score of 720 and a standard deviation of 120. The scores are distributed between 650 and 790 with a very long and thin tail towards the higher end resulting in substantial skewness. Which of the following is likely to be true for randomly chosen samples of aspirants?\n",
    "\n",
    "A.\tThe standard deviation of the scores within any sample will be 120.\n",
    "B.\tThe standard deviation of the mean of across several samples will be 120.\n",
    "C.\tThe mean score in any sample will be 720.\n",
    "D.\tThe average of the mean across several samples will be 720.\n",
    "E.\tThe standard deviation of the mean across several samples will be 0.60\n"
   ]
  },
  {
   "cell_type": "code",
   "execution_count": 4,
   "id": "c4b0d013",
   "metadata": {},
   "outputs": [
    {
     "name": "stdout",
     "output_type": "stream",
     "text": [
      "719.9474551590904\n",
      "Answer(Q5): Option D -The average of the mean across several samples will be 720.\n"
     ]
    }
   ],
   "source": [
    "# Define the population mean and standard deviation\n",
    "mu = 720\n",
    "sigma = 120\n",
    "\n",
    "# Define the sample size\n",
    "n = 100\n",
    "\n",
    "# Simulate 10000 samples of aspirants\n",
    "samples = np.random.normal(mu, sigma, (10000, n))\n",
    "\n",
    "# Calculate the mean of each sample\n",
    "sample_means = samples.mean(axis=1)\n",
    "\n",
    "# Calculate the average of the mean across several samples\n",
    "average_mean = sample_means.mean()\n",
    "\n",
    "print(average_mean)\n",
    "\n",
    "print(\"Answer(Q5): Option D -The average of the mean across several samples will be 720.\")"
   ]
  },
  {
   "cell_type": "code",
   "execution_count": null,
   "id": "11ce0aba",
   "metadata": {},
   "outputs": [],
   "source": []
  }
 ],
 "metadata": {
  "kernelspec": {
   "display_name": "Python 3 (ipykernel)",
   "language": "python",
   "name": "python3"
  },
  "language_info": {
   "codemirror_mode": {
    "name": "ipython",
    "version": 3
   },
   "file_extension": ".py",
   "mimetype": "text/x-python",
   "name": "python",
   "nbconvert_exporter": "python",
   "pygments_lexer": "ipython3",
   "version": "3.11.4"
  }
 },
 "nbformat": 4,
 "nbformat_minor": 5
}
